{
 "cells": [
  {
   "cell_type": "code",
   "execution_count": 9,
   "metadata": {},
   "outputs": [
    {
     "name": "stdout",
     "output_type": "stream",
     "text": [
      "tpucs001-osd-compute-1.localdomain\n"
     ]
    }
   ],
   "source": [
    "import re\n",
    "\n",
    "\n",
    "input_dir = 'tpucs001'\n",
    "input_file = 'tpucs001-osd-compute-1-sar30'\n",
    "\n",
    "with open(input_dir + '/' + input_file, 'r') as f:\n",
    "    content = f.read()\n",
    "\n",
    "data = []\n",
    "# get date\n",
    "m = re.search('(20[0-9]{2}-[0-9]{2}-[0-9]{2})', content)\n",
    "if m:\n",
    "    thedate = m.group(0)\n",
    "\n",
    "m = re.search('\\((.*localdomain)\\)', content)\n",
    "if m:\n",
    "    hostname = m.group(1)\n",
    "\n",
    "    \n",
    "\n"
   ]
  },
  {
   "cell_type": "code",
   "execution_count": null,
   "metadata": {},
   "outputs": [],
   "source": []
  }
 ],
 "metadata": {
  "kernelspec": {
   "display_name": "Python 3",
   "language": "python",
   "name": "python3"
  },
  "language_info": {
   "codemirror_mode": {
    "name": "ipython",
    "version": 3
   },
   "file_extension": ".py",
   "mimetype": "text/x-python",
   "name": "python",
   "nbconvert_exporter": "python",
   "pygments_lexer": "ipython3",
   "version": "3.6.5"
  }
 },
 "nbformat": 4,
 "nbformat_minor": 2
}
